{
 "cells": [
  {
   "cell_type": "code",
   "execution_count": 127,
   "metadata": {},
   "outputs": [],
   "source": [
    "import pydicom\n",
    "import glob\n",
    "import pathlib\n",
    "import shutil"
   ]
  },
  {
   "cell_type": "code",
   "execution_count": 3,
   "metadata": {},
   "outputs": [],
   "source": [
    "dcm = pydicom.read_file('/home/alicja/PET-LAB Code/PET-LAB/PETLAB_CONTOUR_PROCESSED/PROCESSED/set-2/WES-004/MR1.3.12.2.1107.5.2.43.166029.2017091810002626445588484.dcm')\n",
    "dcm_rt = pydicom.read_file('/home/alicja/PET-LAB Code/PET-LAB/PETLAB_CONTOUR_PROCESSED/PROCESSED/set-2/WES-004/RTSTRUCT1.2.246.352.222.400.3853717121.452.1651730871.452.dcm',force=True)\n"
   ]
  },
  {
   "cell_type": "code",
   "execution_count": 4,
   "metadata": {},
   "outputs": [
    {
     "name": "stdout",
     "output_type": "stream",
     "text": [
      "Dataset.file_meta -------------------------------\n",
      "(0002, 0000) File Meta Information Group Length  UL: 198\n",
      "(0002, 0001) File Meta Information Version       OB: b'\\x00\\x01'\n",
      "(0002, 0002) Media Storage SOP Class UID         UI: MR Image Storage\n",
      "(0002, 0003) Media Storage SOP Instance UID      UI: 1.3.12.2.1107.5.2.43.166029.2017091810002626445588484\n",
      "(0002, 0010) Transfer Syntax UID                 UI: Explicit VR Little Endian\n",
      "(0002, 0012) Implementation Class UID            UI: 1.2.276.0.7230010.3.0.3.6.3\n",
      "(0002, 0013) Implementation Version Name         SH: 'OFFIS_DCMTK_363'\n",
      "-------------------------------------------------\n",
      "(0008, 0005) Specific Character Set              CS: 'ISO_IR 100'\n",
      "(0008, 0008) Image Type                          CS: ['ORIGINAL', 'PRIMARY', 'M', 'NORM', 'DIS2D']\n",
      "(0008, 0012) Instance Creation Date              DA: '20170918'\n",
      "(0008, 0013) Instance Creation Time              TM: '100027.584000'\n",
      "(0008, 0016) SOP Class UID                       UI: MR Image Storage\n",
      "(0008, 0018) SOP Instance UID                    UI: 1.3.12.2.1107.5.2.43.166029.2017091810002626445588484\n",
      "(0008, 0020) Study Date                          DA: '20170918'\n",
      "(0008, 0021) Series Date                         DA: '20170918'\n",
      "(0008, 0022) Acquisition Date                    DA: '20170918'\n",
      "(0008, 0023) Content Date                        DA: '20170918'\n",
      "(0008, 0030) Study Time                          TM: '132800'\n",
      "(0008, 0031) Series Time                         TM: '100027.334000'\n",
      "(0008, 0032) Acquisition Time                    TM: '095920.825000'\n",
      "(0008, 0033) Content Time                        TM: '100027.584000'\n",
      "(0008, 0050) Accession Number                    SH: ''\n",
      "(0008, 0060) Modality                            CS: 'MR'\n",
      "(0008, 0070) Manufacturer                        LO: 'SIEMENS'\n",
      "(0008, 0080) Institution Name                    LO: 'westmeaduln'\n",
      "(0008, 0081) Institution Address                 ST: ''\n",
      "(0008, 0090) Referring Physician's Name          PN: ''\n",
      "(0008, 1010) Station Name                        SH: ''\n",
      "(0008, 1030) Study Description                   LO: 'MR Breast'\n",
      "(0008, 1032)  Procedure Code Sequence  1 item(s) ---- \n",
      "   (0008, 0100) Code Value                          SH: 'MRBR'\n",
      "   (0008, 0102) Coding Scheme Designator            SH: 'L'\n",
      "   (0008, 0104) Code Meaning                        LO: 'MR Breast'\n",
      "   ---------\n",
      "(0008, 103e) Series Description                  LO: 't1_fl3d_tra_dynaVIEWS_BAYER_test'\n",
      "(0008, 1040) Institutional Department Name       LO: ''\n",
      "(0008, 1048) Physician(s) of Record              PN: ''\n",
      "(0008, 1050) Performing Physician's Name         PN: ''\n",
      "(0008, 1090) Manufacturer's Model Name           LO: 'Prisma'\n",
      "(0008, 1110)  Referenced Study Sequence  1 item(s) ---- \n",
      "   (0008, 1150) Referenced SOP Class UID            UI: Detached Study Management SOP Class\n",
      "   (0008, 1155) Referenced SOP Instance UID         UI: 1.2.840.113619.6.95.31.0.3.4.1.1109.13.3516453\n",
      "   ---------\n",
      "(0008, 1140)  Referenced Image Sequence  3 item(s) ---- \n",
      "   (0008, 1150) Referenced SOP Class UID            UI: MR Image Storage\n",
      "   (0008, 1155) Referenced SOP Instance UID         UI: 1.3.12.2.1107.5.2.43.166029.2017091809372365769676765\n",
      "   ---------\n",
      "   (0008, 1150) Referenced SOP Class UID            UI: MR Image Storage\n",
      "   (0008, 1155) Referenced SOP Instance UID         UI: 1.3.12.2.1107.5.2.43.166029.2017091809372815222376789\n",
      "   ---------\n",
      "   (0008, 1150) Referenced SOP Class UID            UI: MR Image Storage\n",
      "   (0008, 1155) Referenced SOP Instance UID         UI: 1.3.12.2.1107.5.2.43.166029.2017091809373062644476801\n",
      "   ---------\n",
      "(0008, 2111) Derivation Description              ST: 'Lossless JPEG compression, selection value 1, point transform 0, compression ratio 4.4148'\n",
      "(0008, 9215)  Derivation Code Sequence  1 item(s) ---- \n",
      "   (0008, 0100) Code Value                          SH: '121327'\n",
      "   (0008, 0102) Coding Scheme Designator            SH: 'DCM'\n",
      "   (0008, 0104) Code Meaning                        LO: 'Full fidelity image'\n",
      "   ---------\n",
      "(0010, 0010) Patient's Name                      PN: 'WES-004^'\n",
      "(0010, 0020) Patient ID                          LO: 'WES-004'\n",
      "(0010, 0021) Issuer of Patient ID                LO: ''\n",
      "(0010, 0030) Patient's Birth Date                DA: ''\n",
      "(0010, 0040) Patient's Sex                       CS: ''\n",
      "(0010, 1002)  Other Patient IDs Sequence  0 item(s) ---- \n",
      "(0010, 1010) Patient's Age                       AS: '065Y'\n",
      "(0010, 1020) Patient's Size                      DS: '1.63'\n",
      "(0010, 1030) Patient's Weight                    DS: '45.0'\n",
      "(0010, 1040) Patient's Address                   LO: ''\n",
      "(0010, 2000) Medical Alerts                      LO: ''\n",
      "(0010, 21c0) Pregnancy Status                    US: None\n",
      "(0018, 0015) Body Part Examined                  CS: 'BREAST'\n",
      "(0018, 0020) Scanning Sequence                   CS: 'GR'\n",
      "(0018, 0021) Sequence Variant                    CS: ['SP', 'OSP']\n",
      "(0018, 0022) Scan Options                        CS: ['PFP', 'SFS']\n",
      "(0018, 0023) MR Acquisition Type                 CS: '3D'\n",
      "(0018, 0024) Sequence Name                       SH: '*fl3d1'\n",
      "(0018, 0025) Angio Flag                          CS: 'N'\n",
      "(0018, 0050) Slice Thickness                     DS: '1.3999999761581'\n",
      "(0018, 0080) Repetition Time                     DS: '4.06'\n",
      "(0018, 0081) Echo Time                           DS: '1.5'\n",
      "(0018, 0083) Number of Averages                  DS: '1.0'\n",
      "(0018, 0084) Imaging Frequency                   DS: '123.252912'\n",
      "(0018, 0085) Imaged Nucleus                      SH: '1H'\n",
      "(0018, 0086) Echo Number(s)                      IS: '1'\n",
      "(0018, 0087) Magnetic Field Strength             DS: '3.0'\n",
      "(0018, 0089) Number of Phase Encoding Steps      IS: '238'\n",
      "(0018, 0091) Echo Train Length                   IS: '1'\n",
      "(0018, 0093) Percent Sampling                    DS: '100.0'\n",
      "(0018, 0094) Percent Phase Field of View         DS: '141.96428590909'\n",
      "(0018, 0095) Pixel Bandwidth                     DS: '440.0'\n",
      "(0018, 1000) Device Serial Number                LO: ''\n",
      "(0018, 1020) Software Versions                   LO: 'syngo MR E11'\n",
      "(0018, 1030) Protocol Name                       LO: 't1_fl3d_tra_dynaVIEWS_BAYER_test'\n",
      "(0018, 1251) Transmit Coil Name                  SH: 'Body'\n",
      "(0018, 1310) Acquisition Matrix                  US: [0, 224, 318, 0]\n",
      "(0018, 1312) In-plane Phase Encoding Direction   CS: 'ROW'\n",
      "(0018, 1314) Flip Angle                          DS: '10.0'\n",
      "(0018, 1315) Variable Flip Angle Flag            CS: 'N'\n",
      "(0018, 1316) SAR                                 DS: '0.66788414827014'\n",
      "(0018, 1318) dB/dt                               DS: '0.0'\n",
      "(0018, 5100) Patient Position                    CS: 'HFP'\n",
      "(0020, 000d) Study Instance UID                  UI: 1.2.840.113619.6.95.31.0.3.4.1.1109.13.3516453\n",
      "(0020, 000e) Series Instance UID                 UI: 1.3.12.2.1107.5.2.43.166029.2017091810002494539488091.0.0.0\n",
      "(0020, 0010) Study ID                            SH: 'WSR3516453'\n",
      "(0020, 0011) Series Number                       IS: '8'\n",
      "(0020, 0012) Acquisition Number                  IS: '1'\n",
      "(0020, 0013) Instance Number                     IS: '65'\n",
      "(0020, 0032) Image Position (Patient)            DS: [-158.83780455536, -55.472164154818, 17.604837937789]\n",
      "(0020, 0037) Image Orientation (Patient)         DS: [1, 4.897e-012, 0, -4.897e-012, 1, 0]\n",
      "(0020, 0052) Frame of Reference UID              UI: 1.3.12.2.1107.5.2.43.166029.2.20170918093406152.0.0.0\n",
      "(0020, 1040) Position Reference Indicator        LO: ''\n",
      "(0020, 1041) Slice Location                      DS: '17.604837937789'\n",
      "(0028, 0002) Samples per Pixel                   US: 1\n",
      "(0028, 0004) Photometric Interpretation          CS: 'MONOCHROME2'\n",
      "(0028, 0010) Rows                                US: 448\n",
      "(0028, 0011) Columns                             US: 636\n",
      "(0028, 0030) Pixel Spacing                       DS: [0.49107146263123, 0.49107146263123]\n",
      "(0028, 0100) Bits Allocated                      US: 16\n",
      "(0028, 0101) Bits Stored                         US: 12\n",
      "(0028, 0102) High Bit                            US: 11\n",
      "(0028, 0103) Pixel Representation                US: 0\n",
      "(0028, 0106) Smallest Image Pixel Value          US: 0\n",
      "(0028, 0107) Largest Image Pixel Value           US: 142\n",
      "(0028, 1050) Window Center                       DS: '62.0'\n",
      "(0028, 1051) Window Width                        DS: '170.0'\n",
      "(0028, 1055) Window Center & Width Explanation   LO: 'Algo1'\n",
      "(0032, 1032) Requesting Physician                PN: ''\n",
      "(0032, 1060) Requested Procedure Description     LO: 'MR Breast'\n",
      "(0032, 1064)  Requested Procedure Code Sequence  1 item(s) ---- \n",
      "   (0008, 0100) Code Value                          SH: 'MRBR'\n",
      "   (0008, 0102) Coding Scheme Designator            SH: 'L'\n",
      "   (0008, 0104) Code Meaning                        LO: 'MR Breast'\n",
      "   ---------\n",
      "(0040, 0244) Performed Procedure Step Start Date DA: '20170918'\n",
      "(0040, 0245) Performed Procedure Step Start Time TM: '092904.312000'\n",
      "(0040, 0253) Performed Procedure Step ID         SH: '3516453'\n",
      "(0040, 0254) Performed Procedure Step Descriptio LO: 'MR Breast'\n",
      "(0040, 0275)  Request Attributes Sequence  1 item(s) ---- \n",
      "   (0040, 1001) Requested Procedure ID              SH: 'R3516453'\n",
      "   ---------\n",
      "(0040, 0280) Comments on the Performed Procedure ST: ''\n",
      "(7fe0, 0010) Pixel Data                          OW: Array of 569856 elements\n"
     ]
    }
   ],
   "source": [
    "print(dcm)"
   ]
  },
  {
   "cell_type": "code",
   "execution_count": 9,
   "metadata": {},
   "outputs": [
    {
     "data": {
      "text/plain": [
       "(0020, 000e) Series Instance UID                 UI: 1.3.12.2.1107.5.2.43.166029.2017091810002494539488091.0.0.0"
      ]
     },
     "execution_count": 9,
     "metadata": {},
     "output_type": "execute_result"
    }
   ],
   "source": [
    "dcm[\"SeriesInstanceUID\"]"
   ]
  },
  {
   "cell_type": "code",
   "execution_count": 16,
   "metadata": {},
   "outputs": [
    {
     "data": {
      "text/plain": [
       "'1.2.246.352.222.400.3853717121.452.1651730871.453'"
      ]
     },
     "execution_count": 16,
     "metadata": {},
     "output_type": "execute_result"
    }
   ],
   "source": [
    "\n",
    "dcm_rt[\"SeriesInstanceUID\"].value"
   ]
  },
  {
   "cell_type": "code",
   "execution_count": 11,
   "metadata": {},
   "outputs": [
    {
     "data": {
      "text/plain": [
       "(0020, 0011) Series Number                       IS: '1'"
      ]
     },
     "execution_count": 11,
     "metadata": {},
     "output_type": "execute_result"
    }
   ],
   "source": [
    "dcm_rt[(0x0020,0x0011)]"
   ]
  },
  {
   "cell_type": "code",
   "execution_count": 25,
   "metadata": {},
   "outputs": [
    {
     "data": {
      "text/plain": [
       "(0020, 0052) Frame of Reference UID              UI: 1.3.12.2.1107.5.2.43.166029.2.20170918093406152.0.0.0"
      ]
     },
     "execution_count": 25,
     "metadata": {},
     "output_type": "execute_result"
    }
   ],
   "source": [
    "dcm_rt[(0x0020,0x0052)]\n",
    "dcm_rt[(0x0020,0x0052)].value"
   ]
  },
  {
   "cell_type": "code",
   "execution_count": null,
   "metadata": {},
   "outputs": [],
   "source": [
    "# Match up the FoR UID with the images - if dcm_rt doesnt match up with any of them, look at the date and will need to overwrite the FoR UID (if this is incorrecy) with the correct date\n",
    "# can use date to match them up, if the linkage between the FoR UID\n",
    "# can loop through and find one that matches\n",
    "\n",
    "# loop througuh all dicoms, look at study date, put in new folder\n",
    "\n",
    "#dicom crawler -- https://github.com/pyplati/platipy/blob/master/platipy/dicom/io/crawl.py (look for line 350ish down)"
   ]
  },
  {
   "cell_type": "code",
   "execution_count": 139,
   "metadata": {},
   "outputs": [
    {
     "name": "stdout",
     "output_type": "stream",
     "text": [
      "/home/alicja/PET-LAB Code/PET-LAB/PETLAB_CONTOUR_PROCESSED/PROCESSED/set-2/WES-004/MR1.3.12.2.1107.5.2.43.166029.2017091810081275908690975.dcm  is the MRI file /home/alicja/PET-LAB Code/PET-LAB/PETLAB_CONTOUR_PROCESSED/PROCESSED/set-2/WES-004/RTSTRUCT1.2.246.352.222.400.3853717121.7176.1658304678.1004.dcm is the associated RT file\n",
      "/home/alicja/PET-LAB Code/PET-LAB/PETLAB_CONTOUR_PROCESSED/PROCESSED/set-2/WES-004/MR1.3.12.2.1107.5.2.43.166029.2017091810081275908690975.dcm  is the MRI file /home/alicja/PET-LAB Code/PET-LAB/PETLAB_CONTOUR_PROCESSED/PROCESSED/set-2/WES-004/RTSTRUCT1.2.246.352.222.400.3853717121.452.1651730871.452.dcm is the associated RT file\n",
      "/home/alicja/PET-LAB Code/PET-LAB/PETLAB_CONTOUR_PROCESSED/PROCESSED/set-2/WES-004/MR1.3.12.2.1107.5.2.43.166029.2017091810081275908690975.dcm  is the MRI file /home/alicja/PET-LAB Code/PET-LAB/PETLAB_CONTOUR_PROCESSED/PROCESSED/set-2/WES-004/RTSTRUCT1.2.246.352.222.400.3853717121.452.1651730879.464.dcm is the associated RT file\n",
      "/home/alicja/PET-LAB Code/PET-LAB/PETLAB_CONTOUR_PROCESSED/PROCESSED/set-2/WES-004/MR1.3.12.2.1107.5.2.43.166029.2017091810081275908690975.dcm  is the MRI file /home/alicja/PET-LAB Code/PET-LAB/PETLAB_CONTOUR_PROCESSED/PROCESSED/set-2/WES-004/RTSTRUCT1.2.246.352.222.400.3853717121.452.1651730882.468.dcm is the associated RT file\n",
      "/home/alicja/PET-LAB Code/PET-LAB/PETLAB_CONTOUR_PROCESSED/PROCESSED/set-2/WES-004/MR1.3.12.2.1107.5.2.43.166029.2017091810081724363292689.dcm  is the MRI file /home/alicja/PET-LAB Code/PET-LAB/PETLAB_CONTOUR_PROCESSED/PROCESSED/set-2/WES-004/RTSTRUCT1.2.246.352.222.400.3853717121.452.1651730876.460.dcm is the associated RT file\n",
      "/home/alicja/PET-LAB Code/PET-LAB/PETLAB_CONTOUR_PROCESSED/PROCESSED/set-2/WES-004/MR1.3.12.2.1107.5.2.43.166029.2017091810081724363292689.dcm  is the MRI file /home/alicja/PET-LAB Code/PET-LAB/PETLAB_CONTOUR_PROCESSED/PROCESSED/set-2/WES-004/RTSTRUCT1.2.246.352.222.400.3853717121.452.1651730873.456.dcm is the associated RT file\n",
      "/home/alicja/PET-LAB Code/PET-LAB/PETLAB_CONTOUR_PROCESSED/PROCESSED/set-2/WES-004/MR1.3.12.2.1107.5.2.43.166029.2017091810080994837389805.dcm  is the MRI file /home/alicja/PET-LAB Code/PET-LAB/PETLAB_CONTOUR_PROCESSED/PROCESSED/set-2/WES-004/RTSTRUCT1.2.246.352.222.400.3853717121.452.1651730884.472.dcm is the associated RT file\n",
      "/home/alicja/PET-LAB Code/PET-LAB/PETLAB_CONTOUR_PROCESSED/PROCESSED/set-2/WES-004/MR1.3.12.2.1107.5.2.43.166029.2017051109081153297501980.dcm  is the MRI file /home/alicja/PET-LAB Code/PET-LAB/PETLAB_CONTOUR_PROCESSED/PROCESSED/set-2/WES-004/RTSTRUCT1.2.246.352.222.400.3853717121.7176.1658303756.998.dcm is the associated RT file\n",
      "/home/alicja/PET-LAB Code/PET-LAB/PETLAB_CONTOUR_PROCESSED/PROCESSED/set-2/WES-004/MR1.3.12.2.1107.5.2.43.166029.2017062010402761290802034.dcm  is the MRI file /home/alicja/PET-LAB Code/PET-LAB/PETLAB_CONTOUR_PROCESSED/PROCESSED/set-2/WES-004/RTSTRUCT1.2.246.352.222.400.3853717121.7176.1658304237.1002.dcm is the associated RT file\n"
     ]
    }
   ],
   "source": [
    "input_folder='/home/alicja/PET-LAB Code/PET-LAB/PETLAB_CONTOUR_PROCESSED/PROCESSED/set-2/WES-004'\n",
    "patient_id = '04'\n",
    "\n",
    "mri_files = glob.glob(f'{input_folder}/MR*')\n",
    "rt_files = glob.glob(f'{input_folder}/RTSTRUCT*')\n",
    "\n",
    "# print(mri_files[0][83:])\n",
    "# print(len('/home/alicja/PET-LAB Code/PET-LAB/PETLAB_CONTOUR_PROCESSED/PROCESSED/set-2/WES-004/'))\n",
    "\n",
    "for mri_file in mri_files:\n",
    "    dcm = pydicom.read_file(mri_file)\n",
    "    UI = dcm[(0x0020, 0x0052)].value\n",
    "    mri_study_date = dcm[(0x0008,0x0020)].value\n",
    "    # print(UI)\n",
    "    # print(mri_study_date)\n",
    "\n",
    "    for rt_file in rt_files:\n",
    "        dcm_rt = pydicom.read_file(rt_file,force=True)\n",
    "        rt_FoR_UI = dcm_rt[(0x0020,0x0052)].value\n",
    "        study_date = dcm_rt[(0x0008,0x0020)].value\n",
    "        # print('RT struct',rt_FoR_UI[43:47]) #30\n",
    "        # print(study_date)\n",
    "        if UI == rt_FoR_UI:\n",
    "            print(mri_file, ' is the MRI file', rt_file, 'is the associated RT file')\n",
    "            mri_ID = str(dcm[(0x0020, 0x0052)].value)\n",
    "            # note - need to prevent duplicates... once a file has been copied need to remove from rt_files list/mri_files list? just make sure not to /delete/ any files\n",
    "\n",
    "            path=f\"/home/alicja/PET-LAB Code/PET-LAB/PETLAB_CONTOUR_PROCESSED/PROCESSED/set-2/WES-0{patient_id}/{mri_ID}\"\n",
    "            pathlib.Path(path).mkdir(parents=True, exist_ok=True)\n",
    "            file_name = mri_file[83:]\n",
    "            original_mri = f'{input_folder}/{file_name}'\n",
    "            target = f'{path}/{file_name}'\n",
    "\n",
    "            rt_file_name=rt_file[83:]\n",
    "            original_rt = f'{input_folder}/{rt_file_name}'\n",
    "            target = f'{path}/{rt_file_name}'\n",
    "\n",
    "            shutil.copyfile(original_mri, target)\n",
    "\n",
    "            if rt_file in rt_files:\n",
    "                rt_files.remove(rt_file)\n",
    "            if mri_file in mri_files:\n",
    "                mri_files.remove(mri_file)\n"
   ]
  },
  {
   "cell_type": "code",
   "execution_count": 73,
   "metadata": {},
   "outputs": [
    {
     "data": {
      "text/plain": [
       "13"
      ]
     },
     "execution_count": 73,
     "metadata": {},
     "output_type": "execute_result"
    }
   ],
   "source": [
    "len('2017091810080')\n",
    "for rt_file in rt_files:\n",
    "    dcm_rt = pydicom.read_file(rt_file,force=True)\n",
    "    rt_FoR_UI =dcm_rt[(0x0020,0x0052)].value #dcm_rt[0x0020, 0x000e].value\n",
    "    study_date = dcm_rt[(0x0008,0x0020)].value\n",
    "    # print('RT struct',rt_FoR_UI) #30\n",
    "    # print(dcm_rt[0x0020, 0x000e].value)\n",
    "    if UI == rt_FoR_UI:\n",
    "        print(mri_file, ' is the MRI file', rt_file, 'is the associated RT file')\n",
    "        # print(study_date)\n",
    "    # elif mri_study_date == study_date:\n",
    "    #     print(mri_file, ' is the MRI file', rt_file, 'is the associated RT file')"
   ]
  },
  {
   "cell_type": "code",
   "execution_count": 126,
   "metadata": {},
   "outputs": [],
   "source": [
    "patient_id = '04'"
   ]
  },
  {
   "cell_type": "code",
   "execution_count": 138,
   "metadata": {},
   "outputs": [
    {
     "data": {
      "text/plain": [
       "'RTSTRUCT1.2.246.352.222.400.3853717121.7176.1658304237.1002.dcm'"
      ]
     },
     "execution_count": 138,
     "metadata": {},
     "output_type": "execute_result"
    }
   ],
   "source": [
    "rt_file[83:]"
   ]
  },
  {
   "cell_type": "code",
   "execution_count": 123,
   "metadata": {},
   "outputs": [
    {
     "data": {
      "text/plain": [
       "b'/'"
      ]
     },
     "execution_count": 123,
     "metadata": {},
     "output_type": "execute_result"
    }
   ],
   "source": [
    "# I think the aim is to put these files into different folders - can this be based on their names in any way? or any info on the MRI file?\n"
   ]
  },
  {
   "cell_type": "code",
   "execution_count": null,
   "metadata": {},
   "outputs": [],
   "source": []
  }
 ],
 "metadata": {
  "kernelspec": {
   "display_name": "Python 3 (ipykernel)",
   "language": "python",
   "name": "python3"
  },
  "language_info": {
   "codemirror_mode": {
    "name": "ipython",
    "version": 3
   },
   "file_extension": ".py",
   "mimetype": "text/x-python",
   "name": "python",
   "nbconvert_exporter": "python",
   "pygments_lexer": "ipython3",
   "version": "3.10.6"
  },
  "orig_nbformat": 4,
  "vscode": {
   "interpreter": {
    "hash": "0242efb6a3816c010c852a6ccad8144bdf3a1ef479f4b833c3d8a29deab06b52"
   }
  }
 },
 "nbformat": 4,
 "nbformat_minor": 2
}
