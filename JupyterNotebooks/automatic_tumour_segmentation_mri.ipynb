{
 "cells": [
  {
   "cell_type": "markdown",
   "id": "heated-mirror",
   "metadata": {},
   "source": [
    "# Automatic Tumour Segmentation"
   ]
  },
  {
   "cell_type": "code",
   "execution_count": null,
   "id": "comparable-tours",
   "metadata": {},
   "outputs": [],
   "source": [
    "import SimpleITK as sitk\n",
    "\n",
    "from platipy.imaging import ImageVisualiser\n",
    "\n",
    "from pathlib import Path\n",
    "\n",
    "%matplotlib notebook"
   ]
  },
  {
   "cell_type": "code",
   "execution_count": null,
   "id": "elect-closer",
   "metadata": {},
   "outputs": [],
   "source": [
    "\"\"\"\n",
    "Step 1 \n",
    "\n",
    "Get the list of patients\n",
    "\"\"\"\n",
    "\n",
    "input_dir = Path(\"/media/robbie/My Passport/Work/3_ResearchProjects/PET-LAB/1_data/PROCESSED/\")\n",
    "\n",
    "patient_id_list = sorted([i.name[4:] for i in input_dir.glob(\"WES*\")])\n",
    "print(len(patient_id_list))\n",
    "print(patient_id_list)"
   ]
  },
  {
   "cell_type": "code",
   "execution_count": null,
   "id": "satisfactory-westminster",
   "metadata": {},
   "outputs": [],
   "source": [
    "patient_id = \"005\""
   ]
  },
  {
   "cell_type": "code",
   "execution_count": null,
   "id": "hourly-addition",
   "metadata": {
    "scrolled": true
   },
   "outputs": [],
   "source": [
    "\"\"\"\n",
    "Step 2\n",
    "\n",
    "Generate a breast mask\n",
    "\n",
    "\"\"\"\n",
    "\n",
    "for patient_id in patient_id_list:\n",
    "    \n",
    "    print(patient_id)\n",
    "\n",
    "    img_t1w = sitk.ReadImage( str(input_dir / f\"WES_{patient_id}/IMAGES/WES_{patient_id}_TIMEPOINT_1_MRI_T1W_NFS.nii.gz\"), sitk.sitkFloat32 )\n",
    "    img_t2w = sitk.ReadImage( str(input_dir / f\"WES_{patient_id}/IMAGES/WES_{patient_id}_TIMEPOINT_1_MRI_T2W.nii.gz\"), sitk.sitkFloat32 )\n",
    "    \n",
    "    values_t1w = sitk.GetArrayFromImage(img_t1w).flatten()\n",
    "    values_t2w = sitk.GetArrayFromImage(img_t2w).flatten()\n",
    "    \n",
    "    img_t1w_norm = img_t1w/np.percentile(values_t1w, 99.9)\n",
    "    img_t2w_norm = img_t2w/np.percentile(values_t2w, 99.9)\n",
    "    \n",
    "    mask_t1w = img_t1w_norm>0.2\n",
    "    mask_t1w = sitk.RelabelComponent(sitk.ConnectedComponent(mask_t1w))==1\n",
    "    \n",
    "    mask_t2w = img_t2w_norm>0.2\n",
    "    mask_t2w = sitk.RelabelComponent(sitk.ConnectedComponent(mask_t2w))==1\n",
    "    \n",
    "    vis = ImageVisualiser(img_t1w_norm, window=(0,1))\n",
    "    vis.add_scalar_overlay(mask_t1w)\n",
    "    fig = vis.show()\n",
    "    fig.savefig(f\"../1_processing/BREAST_MASKS/WES_{patient_id}_T1W.jpeg\", dpi=300)\n",
    "    \n",
    "    vis = ImageVisualiser(img_t2w_norm, window=(0,1))\n",
    "    vis.add_scalar_overlay(mask_t2w)\n",
    "    fig = vis.show()\n",
    "    fig.savefig(f\"../1_processing/BREAST_MASKS/WES_{patient_id}_T2W.jpeg\", dpi=300)"
   ]
  },
  {
   "cell_type": "code",
   "execution_count": null,
   "id": "shared-cheese",
   "metadata": {},
   "outputs": [],
   "source": [
    "patient_id = \"005\"\n",
    "\n",
    "img_t1w = sitk.ReadImage( str(input_dir / f\"WES_{patient_id}/IMAGES/WES_{patient_id}_TIMEPOINT_1_MRI_T1W_NFS.nii.gz\"), sitk.sitkFloat32 )\n",
    "img_t2w = sitk.ReadImage( str(input_dir / f\"WES_{patient_id}/IMAGES/WES_{patient_id}_TIMEPOINT_1_MRI_T2W.nii.gz\"), sitk.sitkFloat32 )\n",
    "\n",
    "values_t1w = sitk.GetArrayFromImage(img_t1w).flatten()\n",
    "values_t2w = sitk.GetArrayFromImage(img_t2w).flatten()\n",
    "\n",
    "img_t1w_norm = img_t1w/np.percentile(values_t1w, 99.9)\n",
    "img_t2w_norm = img_t2w/np.percentile(values_t2w, 99.9)\n",
    "\n",
    "mask_t1w = img_t1w_norm>0.2\n",
    "mask_t1w = sitk.RelabelComponent(sitk.ConnectedComponent(mask_t1w))==1\n",
    "\n",
    "mask_t2w = img_t2w_norm>0.2\n",
    "mask_t2w = sitk.RelabelComponent(sitk.ConnectedComponent(mask_t2w))==1"
   ]
  },
  {
   "cell_type": "code",
   "execution_count": null,
   "id": "advisory-switzerland",
   "metadata": {},
   "outputs": [],
   "source": [
    "mask_t1w_filled = sitk.BinaryMorphologicalClosing(mask_t1w, (20,20,2))"
   ]
  },
  {
   "cell_type": "code",
   "execution_count": null,
   "id": "indie-constant",
   "metadata": {},
   "outputs": [],
   "source": [
    "vis = ImageVisualiser(img_t1w_norm, window=(0,1))\n",
    "vis.add_scalar_overlay(mask_t1w_filled)\n",
    "fig = vis.show()"
   ]
  },
  {
   "cell_type": "code",
   "execution_count": null,
   "id": "solid-karaoke",
   "metadata": {},
   "outputs": [],
   "source": [
    "\"\"\"\n",
    "Split into L/R breasts\n",
    "\"\"\"\n",
    "sag_coords = np.where(sitk.GetArrayFromImage(mask_t1w)==1)[2]\n",
    "cutoff = int(0.5*(sag_coords.min() + sag_coords.max()))\n",
    "print(cutoff)"
   ]
  },
  {
   "cell_type": "code",
   "execution_count": null,
   "id": "oriented-intake",
   "metadata": {},
   "outputs": [],
   "source": [
    "arr = sitk.GetArrayFromImage(mask_t1w)"
   ]
  },
  {
   "cell_type": "code",
   "execution_count": null,
   "id": "deadly-adapter",
   "metadata": {},
   "outputs": [],
   "source": [
    "_, _, sag_indices = np.indices(arr.shape)"
   ]
  },
  {
   "cell_type": "code",
   "execution_count": null,
   "id": "offshore-maria",
   "metadata": {},
   "outputs": [],
   "source": [
    "arr = sitk.GetArrayFromImage(mask_t1w)\n",
    "arr[sag_indices>=cutoff] = 0\n",
    "mask_t1w_rightbreast = sitk.GetImageFromArray(arr)\n",
    "mask_t1w_rightbreast.CopyInformation(mask_t1w)"
   ]
  },
  {
   "cell_type": "code",
   "execution_count": null,
   "id": "stone-manchester",
   "metadata": {},
   "outputs": [],
   "source": [
    "vis = ImageVisualiser(img_t1w_norm, window=(0,1))\n",
    "vis.add_scalar_overlay(mask_t1w_rightbreast)\n",
    "fig = vis.show()"
   ]
  },
  {
   "cell_type": "code",
   "execution_count": null,
   "id": "commercial-authority",
   "metadata": {},
   "outputs": [],
   "source": [
    "img_dce = sitk.ReadImage( str(input_dir / f\"WES_{patient_id}/IMAGES/WES_{patient_id}_TIMEPOINT_1_MRI_T1W_DCE_ACQ_0.nii.gz\"), sitk.sitkFloat32 )"
   ]
  },
  {
   "cell_type": "code",
   "execution_count": null,
   "id": "voluntary-revelation",
   "metadata": {},
   "outputs": [],
   "source": [
    "mask_resampled = sitk.Resample(mask_t1w_rightbreast, img_dce, sitk.Transform(), sitk.sitkNearestNeighbor)"
   ]
  },
  {
   "cell_type": "code",
   "execution_count": null,
   "id": "liberal-saudi",
   "metadata": {},
   "outputs": [],
   "source": [
    "vis = ImageVisualiser(img_dce, window=(0,800))\n",
    "vis.add_scalar_overlay(mask_resampled)\n",
    "fig = vis.show()"
   ]
  },
  {
   "cell_type": "code",
   "execution_count": null,
   "id": "sexual-vacation",
   "metadata": {},
   "outputs": [],
   "source": [
    "\"\"\"\n",
    "Getting shape metrics\n",
    "\"\"\"\n",
    "\n",
    "lssf = sitk.LabelShapeStatisticsImageFilter()"
   ]
  },
  {
   "cell_type": "code",
   "execution_count": null,
   "id": "substantial-forward",
   "metadata": {},
   "outputs": [],
   "source": [
    "lssf.Execute(mask_t1w)"
   ]
  },
  {
   "cell_type": "code",
   "execution_count": null,
   "id": "incredible-explorer",
   "metadata": {},
   "outputs": [],
   "source": [
    "lssf.GetPerimeter(1)"
   ]
  },
  {
   "cell_type": "code",
   "execution_count": null,
   "id": "familiar-architect",
   "metadata": {},
   "outputs": [],
   "source": [
    "\"\"\"\n",
    "Slice-wise connected components\n",
    "\"\"\"\n",
    "\n",
    "img_t1w_norm_slice = img_t1w_norm[:,:,20]"
   ]
  },
  {
   "cell_type": "code",
   "execution_count": null,
   "id": "transparent-analyst",
   "metadata": {},
   "outputs": [],
   "source": [
    "test = img_t1w_norm_slice > 0.2\n",
    "test_mask = sitk.RelabelComponent(sitk.ConnectedComponent(test))==1"
   ]
  },
  {
   "cell_type": "code",
   "execution_count": null,
   "id": "auburn-adelaide",
   "metadata": {},
   "outputs": [],
   "source": []
  }
 ],
 "metadata": {
  "kernelspec": {
   "display_name": "Python 3",
   "language": "python",
   "name": "python3"
  },
  "language_info": {
   "codemirror_mode": {
    "name": "ipython",
    "version": 3
   },
   "file_extension": ".py",
   "mimetype": "text/x-python",
   "name": "python",
   "nbconvert_exporter": "python",
   "pygments_lexer": "ipython3",
   "version": "3.9.2"
  }
 },
 "nbformat": 4,
 "nbformat_minor": 5
}
