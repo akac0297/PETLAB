{
 "cells": [
  {
   "cell_type": "code",
   "execution_count": 4,
   "id": "eastern-deviation",
   "metadata": {},
   "outputs": [],
   "source": [
    "#import modules\n",
    "import SimpleITK as sitk\n",
    "\n",
    "from platipy.imaging.visualisation.tools import ImageVisualiser\n",
    "from platipy.imaging.utils.tools import get_com\n",
    "import matplotlib.pyplot as plt\n",
    "import numpy as np\n",
    "\n",
    "%matplotlib notebook"
   ]
  },
  {
   "cell_type": "code",
   "execution_count": 5,
   "id": "herbal-thanks",
   "metadata": {},
   "outputs": [],
   "source": [
    "from platipy.imaging.visualisation.tools import ImageVisualiser\n",
    "\n",
    "from platipy.imaging.registration.registration import (\n",
    "    initial_registration,\n",
    "    fast_symmetric_forces_demons_registration,\n",
    "    transform_propagation,\n",
    "    apply_field\n",
    ")"
   ]
  },
  {
   "cell_type": "code",
   "execution_count": 6,
   "id": "republican-savage",
   "metadata": {},
   "outputs": [],
   "source": [
    "WES_012_4_B50T=sitk.ReadImage(\"/home/alicja/Documents/WES_012/IMAGES/WES_012_4_20180912_MR_EP2D_DIFF_TRA_SPAIR_ZOOMIT_EZ_B50T_EP2D_DIFF_TRA_SPAIR_ZOOMIT_TRACEW_DFC_MIX_7.nii.gz\")\n",
    "WES_012_4_B800T=sitk.ReadImage(\"/home/alicja/Documents/WES_012/IMAGES/WES_012_4_20180912_MR_EP2D_DIFF_TRA_SPAIR_ZOOMIT_EZ_B800T_EP2D_DIFF_TRA_SPAIR_ZOOMIT_TRACEW_DFC_MIX_7.nii.gz\")\n",
    "WES_012_4_T2w=sitk.ReadImage(\"/home/alicja/Documents/WES_012/IMAGES/WES_012_4_20180912_MR_T2_TSE_TRA_SPAIR_TSE2D1_11_T2_TSE_TRA_SPAIR_3.nii.gz\")\n",
    "WES_012_4_MPE=sitk.ReadImage(\"MPE_sub_WES_012_4.nii.gz\")"
   ]
  },
  {
   "cell_type": "code",
   "execution_count": null,
   "id": "fancy-netscape",
   "metadata": {},
   "outputs": [],
   "source": []
  }
 ],
 "metadata": {
  "kernelspec": {
   "display_name": "Python 3",
   "language": "python",
   "name": "python3"
  },
  "language_info": {
   "codemirror_mode": {
    "name": "ipython",
    "version": 3
   },
   "file_extension": ".py",
   "mimetype": "text/x-python",
   "name": "python",
   "nbconvert_exporter": "python",
   "pygments_lexer": "ipython3",
   "version": "3.8.5"
  }
 },
 "nbformat": 4,
 "nbformat_minor": 5
}
