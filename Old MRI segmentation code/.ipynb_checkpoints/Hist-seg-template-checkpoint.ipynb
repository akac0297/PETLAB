{
 "cells": [
  {
   "cell_type": "code",
   "execution_count": 1,
   "id": "preceding-psychology",
   "metadata": {},
   "outputs": [],
   "source": [
    "#import modules\n",
    "import SimpleITK as sitk\n",
    "\n",
    "from platipy.imaging.visualisation.tools import ImageVisualiser\n",
    "from platipy.imaging.utils.tools import get_com\n",
    "import matplotlib.pyplot as plt\n",
    "import numpy as np\n",
    "\n",
    "%matplotlib notebook\n",
    "\n",
    "from platipy.imaging.visualisation.tools import ImageVisualiser\n",
    "\n",
    "from platipy.imaging.registration.registration import (\n",
    "    initial_registration,\n",
    "    fast_symmetric_forces_demons_registration,\n",
    "    transform_propagation,\n",
    "    apply_field\n",
    ")"
   ]
  },
  {
   "cell_type": "code",
   "execution_count": 4,
   "id": "after-collectible",
   "metadata": {},
   "outputs": [
    {
     "ename": "SyntaxError",
     "evalue": "invalid syntax (<ipython-input-4-ab4abdb51625>, line 7)",
     "output_type": "error",
     "traceback": [
      "\u001b[0;36m  File \u001b[0;32m\"<ipython-input-4-ab4abdb51625>\"\u001b[0;36m, line \u001b[0;32m7\u001b[0m\n\u001b[0;31m    filenameB50T_1=\u001b[0m\n\u001b[0m                   ^\u001b[0m\n\u001b[0;31mSyntaxError\u001b[0m\u001b[0;31m:\u001b[0m invalid syntax\n"
     ]
    }
   ],
   "source": [
    "breast=sitk.ReadImage(\"/home/alicja/Downloads/Segmentation.nii.gz\") #right breast\n",
    "#Left breast=sitk.ReadImage(\"contralateral_segmentation.nii.gz\")\n",
    "\n",
    "pat_no=\"03\"\n",
    "timept=\"2\"\n",
    "laterality=\"L\"\n",
    "\n",
    "filenameB50T_1=\"\"\n",
    "filenameB800T_1=\"\"\n",
    "filenameT2w_1=\"\"\n",
    "filenameMPE_1=\"MPE_sub_WES_0\" +pat_no+\"_\"+timept+\".nii.gz\"\n",
    "\n",
    "WES_1_B50T=sitk.ReadImage(\"/home/alicja/Documents/WES_0\" + pat_no + \"/IMAGES/\" +filenameB50T_1)\n",
    "WES_1_B800T=sitk.ReadImage(\"/home/alicja/Documents/WES_0\" + pat_no + \"/IMAGES/\" +filenameB800T_1)\n",
    "WES_1_T2w=sitk.ReadImage(\"/home/alicja/Documents/WES_0\" + pat_no + \"/IMAGES/\" +filenameT2w_1)\n",
    "WES_1_MPE=sitk.ReadImage(filenameMPE_1)\n",
    "\n",
    "WES_010_4_B50T=sitk.ReadImage(\"/home/alicja/Documents/WES_010/IMAGES/WES_010_4_20180829_MR_EP2D_DIFF_TRA_SPAIR_ZOOMIT_EZ_B50T_EP2D_DIFF_TRA_SPAIR_ZOOMIT_TRACEW_DFC_MIX_5.nii.gz\")"
   ]
  },
  {
   "cell_type": "code",
   "execution_count": null,
   "id": "ecological-martin",
   "metadata": {},
   "outputs": [],
   "source": [
    "image_to_0_rigid, tfm_to_0_rigid = initial_registration(\n",
    "    WES_1_B50T,\n",
    "    WES_010_4_B50T,\n",
    "    options={\n",
    "        'shrink_factors': [8,4],\n",
    "        'smooth_sigmas': [0,0],\n",
    "        'sampling_rate': 0.5,\n",
    "        'final_interp': 2,\n",
    "        'metric': 'mean_squares',\n",
    "        'optimiser': 'gradient_descent_line_search',\n",
    "        'number_of_iterations': 25},\n",
    "    reg_method='Rigid')\n",
    "\n",
    "image_to_0_dir, tfm_to_0_dir = fast_symmetric_forces_demons_registration(\n",
    "    WES_1_B50T,\n",
    "    image_to_0_rigid,\n",
    "    resolution_staging=[4,2],\n",
    "    iteration_staging=[10,10]\n",
    ")\n",
    "\n",
    "breast_to_0_rigid = transform_propagation(\n",
    "    WES_1_B50T,\n",
    "    breast,\n",
    "    tfm_to_0_rigid,\n",
    "    structure=True\n",
    ")\n",
    "\n",
    "breast_to_0_dir = apply_field(\n",
    "    breast_to_0_rigid,\n",
    "    tfm_to_0_dir,\n",
    "    structure=True\n",
    ")"
   ]
  },
  {
   "cell_type": "code",
   "execution_count": null,
   "id": "postal-buyer",
   "metadata": {},
   "outputs": [],
   "source": [
    "vis = ImageVisualiser(WES_1_B50T, axis='z', cut=get_com(breast_to_0_dir), window=[0, 500])\n",
    "vis.add_contour(breast_to_0_dir, name='BREAST', color='g')\n",
    "fig = vis.show()"
   ]
  },
  {
   "cell_type": "code",
   "execution_count": null,
   "id": "capital-island",
   "metadata": {},
   "outputs": [],
   "source": [
    "breast_contour_dilate=sitk.BinaryDilate(breast_to_0_dir, (2,2,2))"
   ]
  },
  {
   "cell_type": "code",
   "execution_count": null,
   "id": "delayed-championship",
   "metadata": {},
   "outputs": [],
   "source": [
    "vis = ImageVisualiser(WES_1_B50T, axis='z', cut=get_com(breast_to_0_dir), window=[0, 500])\n",
    "vis.add_contour(breast_contour_dilate, name='BREAST', color='g')\n",
    "fig = vis.show()"
   ]
  },
  {
   "cell_type": "code",
   "execution_count": null,
   "id": "skilled-fishing",
   "metadata": {},
   "outputs": [],
   "source": [
    "masked_breast = sitk.Mask(WES_1_B50T, breast_contour_dilate)"
   ]
  },
  {
   "cell_type": "code",
   "execution_count": null,
   "id": "neither-variable",
   "metadata": {},
   "outputs": [],
   "source": [
    "values = sitk.GetArrayViewFromImage(masked_breast).flatten()\n",
    "\n",
    "fig, ax = plt.subplots(1,1)\n",
    "ax.hist(values, bins=np.linspace(1,1500,50), histtype='stepfilled', lw=2)\n",
    "ax.grid()\n",
    "ax.set_axisbelow(True)\n",
    "ax.set_xlabel('Intensity')\n",
    "ax.set_ylabel('Frequency')\n",
    "fig.show()"
   ]
  },
  {
   "cell_type": "code",
   "execution_count": null,
   "id": "corresponding-inventory",
   "metadata": {},
   "outputs": [],
   "source": [
    "def estimate_tumour_vol(img_mri, lowerthreshold=300, upperthreshold=5000, hole_size=1):\n",
    "    label_threshold = sitk.BinaryThreshold(img_mri, lowerThreshold=lowerthreshold, upperThreshold=upperthreshold)\n",
    "    label_threshold_cc = sitk.RelabelComponent(sitk.ConnectedComponent(label_threshold))\n",
    "    label_threshold_cc_x = (label_threshold_cc==1)\n",
    "    label_threshold_cc_x_f = sitk.BinaryMorphologicalClosing(label_threshold_cc_x, (hole_size,hole_size,hole_size))\n",
    "    return(label_threshold_cc_x_f)"
   ]
  },
  {
   "cell_type": "code",
   "execution_count": 5,
   "id": "recognized-poster",
   "metadata": {},
   "outputs": [
    {
     "ename": "SyntaxError",
     "evalue": "EOL while scanning string literal (<ipython-input-5-7a16f3c83f76>, line 9)",
     "output_type": "error",
     "traceback": [
      "\u001b[0;36m  File \u001b[0;32m\"<ipython-input-5-7a16f3c83f76>\"\u001b[0;36m, line \u001b[0;32m9\u001b[0m\n\u001b[0;31m    sitk.WriteImage(label_threshold_cc_x_f,\"test_label_threshold_0\" + pat_no + \"_\" +timept +_B50T_hist.nii.gz\")\u001b[0m\n\u001b[0m                                                                                                               ^\u001b[0m\n\u001b[0;31mSyntaxError\u001b[0m\u001b[0;31m:\u001b[0m EOL while scanning string literal\n"
     ]
    }
   ],
   "source": [
    "image_mri=WES_1_B50T\n",
    "arr_mri = sitk.GetArrayFromImage(image_mri)\n",
    "if laterality == \"R\":\n",
    "    arr_mri[:,:,arr_mri.shape[2]//2:] = 0\n",
    "elif laterality == \"L\":\n",
    "    arr_mri[:,:,:arr_mri.shape[2]//2] = 0\n",
    "image_mri_masked=sitk.GetImageFromArray(arr_mri)\n",
    "image_mri_masked.CopyInformation(image_mri)\n",
    "\n",
    "label_threshold_cc_x_f=estimate_tumour_vol(image_mri_masked, lowerthreshold=950, upperthreshold=5000, hole_size=1)\n",
    "\n",
    "sitk.WriteImage(label_threshold_cc_x_f,\"test_label_threshold_0\" + pat_no + \"_\" +timept +\"_B50T_hist.nii.gz\")"
   ]
  },
  {
   "cell_type": "code",
   "execution_count": null,
   "id": "absent-equity",
   "metadata": {},
   "outputs": [],
   "source": [
    "masked_breast = sitk.Mask(WES_1_B800T, breast_contour_dilate)\n",
    "\n",
    "values = sitk.GetArrayViewFromImage(masked_breast).flatten()\n",
    "\n",
    "fig, ax = plt.subplots(1,1)\n",
    "ax.hist(values, bins=np.linspace(1,750,50), histtype='stepfilled', lw=2)\n",
    "ax.grid()\n",
    "ax.set_axisbelow(True)\n",
    "ax.set_xlabel('Intensity')\n",
    "ax.set_ylabel('Frequency')\n",
    "fig.show()"
   ]
  },
  {
   "cell_type": "code",
   "execution_count": null,
   "id": "vocal-colony",
   "metadata": {},
   "outputs": [],
   "source": [
    "image_mri=WES_1_B800T\n",
    "arr_mri = sitk.GetArrayFromImage(image_mri)\n",
    "if laterality == \"R\":\n",
    "    arr_mri[:,:,arr_mri.shape[2]//2:] = 0\n",
    "elif laterality == \"L\":\n",
    "    arr_mri[:,:,:arr_mri.shape[2]//2] = 0\n",
    "image_mri_masked=sitk.GetImageFromArray(arr_mri)\n",
    "image_mri_masked.CopyInformation(image_mri)\n",
    "\n",
    "label_threshold_cc_x_f=estimate_tumour_vol(image_mri_masked, lowerthreshold=400, upperthreshold=5000, hole_size=1)\n",
    "\n",
    "sitk.WriteImage(label_threshold_cc_x_f,\"test_label_threshold_0\" + pat_no + \"_\" +timept +\"_B800T_hist.nii.gz\")"
   ]
  },
  {
   "cell_type": "code",
   "execution_count": null,
   "id": "numeric-stack",
   "metadata": {},
   "outputs": [],
   "source": [
    "WES_1_T2w=sitk.Resample(WES_1_T2w,WES_1_B50T)\n",
    "masked_breast = sitk.Mask(WES_1_T2w, breast_contour_dilate)\n",
    "values = sitk.GetArrayViewFromImage(masked_breast).flatten()\n",
    "\n",
    "fig, ax = plt.subplots(1,1)\n",
    "ax.hist(values, bins=np.linspace(1,750,50), histtype='stepfilled', lw=2)\n",
    "ax.grid()\n",
    "ax.set_axisbelow(True)\n",
    "ax.set_xlabel('Intensity')\n",
    "ax.set_ylabel('Frequency')\n",
    "fig.show()"
   ]
  },
  {
   "cell_type": "code",
   "execution_count": null,
   "id": "historical-delicious",
   "metadata": {},
   "outputs": [],
   "source": [
    "image_mri=WES_1_T2w\n",
    "arr_mri = sitk.GetArrayFromImage(image_mri)\n",
    "if laterality == \"R\":\n",
    "    arr_mri[:,:,arr_mri.shape[2]//2:] = 0\n",
    "elif laterality == \"L\":\n",
    "    arr_mri[:,:,:arr_mri.shape[2]//2] = 0\n",
    "image_mri_masked=sitk.GetImageFromArray(arr_mri)\n",
    "image_mri_masked.CopyInformation(image_mri)\n",
    "\n",
    "label_threshold_cc_x_f=estimate_tumour_vol(image_mri_masked, lowerthreshold=400, upperthreshold=5000, hole_size=1)\n",
    "\n",
    "sitk.WriteImage(label_threshold_cc_x_f,\"test_label_threshold_0\" + pat_no + \"_\" +timept +\"_T2w_hist.nii.gz\")"
   ]
  },
  {
   "cell_type": "code",
   "execution_count": null,
   "id": "moving-myrtle",
   "metadata": {},
   "outputs": [],
   "source": [
    "WES_1_MPE=sitk.Resample(WES_1_MPE,WES_1_B50T)\n",
    "masked_breast = sitk.Mask(WES_1_MPE, breast_contour_dilate)\n",
    "values = sitk.GetArrayViewFromImage(masked_breast).flatten()\n",
    "\n",
    "fig, ax = plt.subplots(1,1)\n",
    "ax.hist(values, bins=np.linspace(1,750,50), histtype='stepfilled', lw=2)\n",
    "ax.grid()\n",
    "ax.set_axisbelow(True)\n",
    "ax.set_xlabel('Intensity')\n",
    "ax.set_ylabel('Frequency')\n",
    "fig.show()"
   ]
  },
  {
   "cell_type": "code",
   "execution_count": null,
   "id": "corporate-kenya",
   "metadata": {},
   "outputs": [],
   "source": [
    "image_mri=WES_1_MPE\n",
    "arr_mri = sitk.GetArrayFromImage(image_mri)\n",
    "if laterality == \"R\":\n",
    "    arr_mri[:,:,arr_mri.shape[2]//2:] = 0\n",
    "elif laterality == \"L\":\n",
    "    arr_mri[:,:,:arr_mri.shape[2]//2] = 0\n",
    "image_mri_masked=sitk.GetImageFromArray(arr_mri)\n",
    "image_mri_masked.CopyInformation(image_mri)\n",
    "\n",
    "label_threshold_cc_x_f=estimate_tumour_vol(image_mri_masked, lowerthreshold=400, upperthreshold=5000, hole_size=1)\n",
    "\n",
    "sitk.WriteImage(label_threshold_cc_x_f,\"test_label_threshold_0\" + pat_no + \"_\" +timept +\"_MPE_hist.nii.gz\")"
   ]
  },
  {
   "cell_type": "code",
   "execution_count": null,
   "id": "detected-simpson",
   "metadata": {},
   "outputs": [],
   "source": [
    "#add segs\n",
    "seg_B50T=sitk.ReadImage(\"test_label_threshold_0\" + pat_no + \"_\" +timept +\"_B50T_hist.nii.gz\")\n",
    "seg_B800T=sitk.ReadImage(\"test_label_threshold_0\" + pat_no + \"_\" +timept +\"_B800T_hist.nii.gz\")\n",
    "seg_T2=sitk.ReadImage(\"test_label_threshold_0\" + pat_no + \"_\" +timept +\"_T2w_hist.nii.gz\")\n",
    "seg_MPE=sitk.ReadImage(\"test_label_threshold_0\" + pat_no + \"_\" +timept +\"_MPE_hist.nii.gz\")\n",
    "\n",
    "seg_B50T=sitk.Resample(seg_B50T,seg_T2)\n",
    "seg_B800T=sitk.Resample(seg_B800T,seg_T2)\n",
    "seg_MPE=sitk.Resample(seg_MPE,seg_T2)\n",
    "\n",
    "new_seg_T2=sitk.LabelMapToBinary(sitk.Cast(seg_T2, sitk.sitkLabelUInt8))\n",
    "new_seg_B50T=sitk.LabelMapToBinary(sitk.Cast(seg_B50T, sitk.sitkLabelUInt8))\n",
    "new_seg_B800T=sitk.LabelMapToBinary(sitk.Cast(seg_B800T, sitk.sitkLabelUInt8))\n",
    "new_seg_MPE=sitk.LabelMapToBinary(sitk.Cast(seg_MPE, sitk.sitkLabelUInt8))\n",
    "\n",
    "new_TRACE_seg=(new_seg_B50T+new_seg_B800T)/2\n",
    "new_seg_1=(sitk.Cast(new_seg_T2,sitk.sitkFloat64)+sitk.Cast(new_TRACE_seg,sitk.sitkFloat64)+sitk.Cast(new_seg_MPE,sitk.sitkFloat64))\n",
    "vis=ImageVisualiser(new_seg_1, cut=get_com(new_seg_1), window=[0,3])\n",
    "fig=vis.show()"
   ]
  },
  {
   "cell_type": "code",
   "execution_count": null,
   "id": "handy-house",
   "metadata": {},
   "outputs": [],
   "source": [
    "new_seg_1_1=sitk.BinaryThreshold(new_seg_1, lowerThreshold=2)\n",
    "\n",
    "vis=ImageVisualiser(new_seg_1_1, cut=get_com(new_seg_1), window=[0,1])\n",
    "fig=vis.show()"
   ]
  },
  {
   "cell_type": "code",
   "execution_count": null,
   "id": "respected-fifty",
   "metadata": {},
   "outputs": [],
   "source": [
    "sitk.WriteImage(new_seg_1_1,\"new_seg_0\"+pat_no+\"_\"+timept+\"_mri.nii.gz\")"
   ]
  },
  {
   "cell_type": "code",
   "execution_count": null,
   "id": "common-postage",
   "metadata": {},
   "outputs": [],
   "source": []
  },
  {
   "cell_type": "code",
   "execution_count": null,
   "id": "brazilian-heading",
   "metadata": {},
   "outputs": [],
   "source": []
  },
  {
   "cell_type": "code",
   "execution_count": 6,
   "id": "federal-graduation",
   "metadata": {},
   "outputs": [
    {
     "ename": "SyntaxError",
     "evalue": "invalid syntax (<ipython-input-6-807f0320aaca>, line 1)",
     "output_type": "error",
     "traceback": [
      "\u001b[0;36m  File \u001b[0;32m\"<ipython-input-6-807f0320aaca>\"\u001b[0;36m, line \u001b[0;32m1\u001b[0m\n\u001b[0;31m    tp1=\u001b[0m\n\u001b[0m        ^\u001b[0m\n\u001b[0;31mSyntaxError\u001b[0m\u001b[0;31m:\u001b[0m invalid syntax\n"
     ]
    }
   ],
   "source": [
    "#Checking for volume decrease\n",
    "\n",
    "tp1=\n",
    "tp2=\n",
    "tp3=\n",
    "\n",
    "#volumes\n",
    "img1=sitk.ReadImage(\"new_seg_0\"+pat_no+\"_\"+tp1+\"_mri.nii.gz\")\n",
    "img2=sitk.ReadImage(\"new_seg_0\"+pat_no+\"_\"+tp2+\"_mri.nii.gz\")\n",
    "img3=sitk.ReadImage(\"new_seg_0\"+pat_no+\"_\"+tp3+\"_mri.nii.gz\")\n",
    "\n",
    "arr1=sitk.GetArrayFromImage(img1)\n",
    "arr2=sitk.GetArrayFromImage(img2)\n",
    "arr3=sitk.GetArrayFromImage(img3)\n",
    "\n",
    "vol1=np.sum(arr1==1)\n",
    "vol2=np.sum(arr2==1)\n",
    "vol3=np.sum(arr3==1)\n",
    "\n",
    "print(vol1, vol2, vol3)"
   ]
  }
 ],
 "metadata": {
  "kernelspec": {
   "display_name": "Python 3",
   "language": "python",
   "name": "python3"
  },
  "language_info": {
   "codemirror_mode": {
    "name": "ipython",
    "version": 3
   },
   "file_extension": ".py",
   "mimetype": "text/x-python",
   "name": "python",
   "nbconvert_exporter": "python",
   "pygments_lexer": "ipython3",
   "version": "3.8.10"
  }
 },
 "nbformat": 4,
 "nbformat_minor": 5
}
